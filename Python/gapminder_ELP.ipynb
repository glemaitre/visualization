{
 "cells": [
  {
   "cell_type": "markdown",
   "metadata": {},
   "source": [
    "\n",
    "# Gapminder\n",
    "\n",
    "Gapminder is a swedish foundation. Its website states\n",
    "\n",
    "> Gapminder fights devastating misconceptions about global development. Gapminder produces free teaching resources making the world understandable based on reliable statistics. Gapminder promotes a fact-based worldview everyone can understand.\n",
    "\n",
    "One of its founder, Hans Rosling, is famous for a 2006 Ted talk called _The best statistics you’ve never seen_.  It became one of the most seen TED talks ever, thanks to its unique combination of knowledge-testing, animating bubble charts and storytelling about global development.\n",
    "\n",
    "It uses a lot of bubble plots like the following one:\n",
    "<img src=\"gapminder_rosling.jpg\" alt=\"Gapminder\" style=\"width: 70%; align\"/>\n",
    "\n",
    "Our goal is to learn how to produce such a plot (and many more) with __Python__.\n",
    "\n",
    "We will use the following libraries:"
   ]
  },
  {
   "cell_type": "code",
   "execution_count": null,
   "metadata": {},
   "outputs": [],
   "source": [
    "import numpy as np\n",
    "import pandas as pd\n",
    "import geopandas as gpd\n",
    "import matplotlib as mpl\n",
    "import matplotlib.pyplot as plt\n",
    "import matplotlib.animation as animation\n",
    "import seaborn as sns \n",
    "from celluloid import Camera\n",
    "from IPython.display import HTML\n",
    "import plotly.express as px\n",
    "import altair as alt"
   ]
  },
  {
   "cell_type": "markdown",
   "metadata": {},
   "source": [
    "# The `gapminder` dataset\n",
    "\n",
    "The __gapminder__ package contains an excerpt of the full gapminder database\n",
    "\n"
   ]
  },
  {
   "cell_type": "code",
   "execution_count": null,
   "metadata": {},
   "outputs": [],
   "source": [
    "from gapminder import gapminder"
   ]
  },
  {
   "cell_type": "code",
   "execution_count": null,
   "metadata": {},
   "outputs": [],
   "source": [
    "gapminder"
   ]
  },
  {
   "cell_type": "markdown",
   "metadata": {},
   "source": [
    "As it can be guessed from above, it measure the Lifespan measured by the Life Expectancy (`lifeExp`), the Income measured by the GDP per capita (`gdpPercap`) as well as the population size (`pop`) of several countries across all the continents for several years between 1957 and 2007."
   ]
  },
  {
   "cell_type": "markdown",
   "metadata": {},
   "source": [
    "# The original gapminder plot"
   ]
  },
  {
   "cell_type": "markdown",
   "metadata": {},
   "source": [
    "## A first attempt for the year 2002 using __matplotlib__\n",
    "\n",
    "__matplotlib__ is the most commonly used framework to produce plots in __Python__. It has been inspired by __Matlab__ plotting libraries and\n",
    "\n",
    "> Matplotlib is a comprehensive library for creating static, animated, and interactive visualizations in Python.\n",
    "> Matplotlib makes easy things easy and hard things possible.\n",
    "\n",
    "A plot is obtained by specifying its different components.\n",
    "\n",
    "For instance a scatter plot of the year 2002 can be obtained by:"
   ]
  },
  {
   "cell_type": "code",
   "execution_count": null,
   "metadata": {},
   "outputs": [],
   "source": [
    "gapminder_2002 = gapminder.query('year == 2002')\n"
   ]
  },
  {
   "cell_type": "code",
   "execution_count": null,
   "metadata": {},
   "outputs": [],
   "source": [
    "plt.scatter(gapminder_2002['gdpPercap'], gapminder_2002['lifeExp']);"
   ]
  },
  {
   "cell_type": "markdown",
   "metadata": {},
   "source": [
    "__matplotlib__ automatically proposes a scale for the different axis."
   ]
  },
  {
   "cell_type": "markdown",
   "metadata": {},
   "source": [
    "To obtain a different color for each continent, the idiomatic way with __matplotlib__ is to plot a different scatter plot for each continent."
   ]
  },
  {
   "cell_type": "code",
   "execution_count": null,
   "metadata": {},
   "outputs": [],
   "source": [
    "for continent,df  in gapminder_2002.groupby('continent'):\n",
    "    plt.scatter(df['gdpPercap'], df['lifeExp'], label = continent)"
   ]
  },
  {
   "cell_type": "markdown",
   "metadata": {},
   "source": [
    "1. Modify the previous plot so that the circle area is proportionnal to the population.\n",
    "\n",
    "__Hint:__ Before specifying the `s` parameter, you need to scale the population to a value in point."
   ]
  },
  {
   "cell_type": "code",
   "execution_count": null,
   "metadata": {},
   "outputs": [],
   "source": [
    "norm_pop = mpl.colors.Normalize(vmin=0, vmax=gapminder['pop'].max())\n",
    "bubble_max_size = 300\n",
    "gapminder_2002['bubble_size'] = norm_pop(gapminder_2002['pop']) * bubble_max_size"
   ]
  },
  {
   "cell_type": "code",
   "execution_count": null,
   "metadata": {},
   "outputs": [],
   "source": [
    "#solution\n",
    "for continent, df in gapminder_2002.groupby('continent'):\n",
    "    plt.scatter(df['gdpPercap'], df['lifeExp'], s=df['bubble_size'], label = continent)"
   ]
  },
  {
   "cell_type": "markdown",
   "metadata": {},
   "source": [
    "In order to obtain a figure closer to the one of Hans Rosling, we need to impose that the gdp per capita axis should be logarithmic\n",
    "\n",
    "2. Specify this logarithmic scale\n",
    "\n",
    "__Hint:__ Use `plt.xscale`."
   ]
  },
  {
   "cell_type": "code",
   "execution_count": null,
   "metadata": {},
   "outputs": [],
   "source": [
    "#solution\n",
    "for continent, df in gapminder_2002.groupby('continent'):\n",
    "    plt.scatter(df['gdpPercap'], df['lifeExp'], s=df['bubble_size'], label = continent)\n",
    "plt.xscale('log')"
   ]
  },
  {
   "cell_type": "markdown",
   "metadata": {},
   "source": [
    "## Styling the graph\n",
    "\n",
    "We have now a graph which is correct but that could be improved and customized.\n"
   ]
  },
  {
   "cell_type": "code",
   "execution_count": null,
   "metadata": {},
   "outputs": [],
   "source": [
    "#hidden\n",
    "for continent, df in gapminder_2002.groupby('continent'):\n",
    "    plt.scatter(df['gdpPercap'], df['lifeExp'], s=df['bubble_size'], label = continent)\n",
    "plt.xscale('log')"
   ]
  },
  {
   "cell_type": "markdown",
   "metadata": {},
   "source": [
    "3. Add a title _Gapminder bubble plot (2002)_ and change the axis name to Income and Lifespan\n",
    "\n",
    "__Hint:__ Use `plt.title`, `plt.xlabel` and `plt.ylabel` to specify them."
   ]
  },
  {
   "cell_type": "code",
   "execution_count": null,
   "metadata": {},
   "outputs": [],
   "source": [
    "#solution\n",
    "for continent, df in gapminder_2002.groupby('continent'):\n",
    "    plt.scatter(df['gdpPercap'], df['lifeExp'], s=df['bubble_size'], label = continent)\n",
    "plt.xscale('log')\n",
    "plt.title('Gapminder bubble plot (2002)')\n",
    "plt.xlabel('Income')\n",
    "plt.ylabel('Lifespan');"
   ]
  },
  {
   "cell_type": "markdown",
   "metadata": {},
   "source": [
    "The default __matplotlib__ theme (even it is much better than the original one) may be change to another one with `mpl.style.use`.\n",
    "\n",
    "4. Use the `seaborn-whitegrid` theme.\n",
    "\n",
    "__Hint:__ You may use `mpl.style.available` to see a list of all available styles."
   ]
  },
  {
   "cell_type": "code",
   "execution_count": null,
   "metadata": {},
   "outputs": [],
   "source": [
    "mpl.style.use('seaborn-whitegrid')"
   ]
  },
  {
   "cell_type": "code",
   "execution_count": null,
   "metadata": {},
   "outputs": [],
   "source": [
    "for continent, df in gapminder_2002.groupby('continent'):\n",
    "    plt.scatter(df['gdpPercap'], df['lifeExp'], s=df['bubble_size'], label = continent)\n",
    "plt.xscale('log')\n",
    "plt.title('Gapminder bubble plot (2002)')\n",
    "plt.xlabel('Income')\n",
    "plt.ylabel('Lifespan');"
   ]
  },
  {
   "cell_type": "markdown",
   "metadata": {},
   "source": [
    "Choosing the right color scheme can be complicated (especially if you are color blind). There are a lot of color palette that are available in __ggplot2__ that one can use or one can specify the color manually. As expected, everything is done with the help of the `scale_color*` function family...\n",
    "\n",
    "5. Use the 'Set1' set of color from the Brewer family (https://colorbrewer2.org)\n",
    "\n",
    "__Hint:__ You may define a color dictionary"
   ]
  },
  {
   "cell_type": "code",
   "execution_count": null,
   "metadata": {},
   "outputs": [],
   "source": [
    "colors = plt.get_cmap('Set1')\n",
    "unique_continents = gapminder_2002['continent'].unique()\n",
    "continent_colors = dict(zip(unique_continents, colors(range(len(unique_continents)))))"
   ]
  },
  {
   "cell_type": "code",
   "execution_count": null,
   "metadata": {},
   "outputs": [],
   "source": [
    "#solution\n",
    "for continent, df in gapminder_2002.groupby('continent'):\n",
    "    plt.scatter(df['gdpPercap'], df['lifeExp'], s=df['bubble_size'], label = continent,\n",
    "    c = [continent_colors[continent]])\n",
    "plt.xscale('log')\n",
    "plt.title('Gapminder bubble plot (2002)')\n",
    "plt.xlabel('Income')\n",
    "plt.ylabel('Lifespan');"
   ]
  },
  {
   "cell_type": "markdown",
   "metadata": {},
   "source": [
    "6. Specify manually the color so that they are as similar as possible to the one of original picture.\n",
    "\n",
    "__Hint:__ You can use html color names in the dictionary (a color picker may also be useful)"
   ]
  },
  {
   "cell_type": "code",
   "execution_count": null,
   "metadata": {},
   "outputs": [],
   "source": [
    "continent_colors = {'Africa': '#01d4e5', 'Americas': '#7dea01',\n",
    " 'Asia': '#fc5173', 'Europe': '#fde803', 'Oceania': '#536227'}"
   ]
  },
  {
   "cell_type": "code",
   "execution_count": null,
   "metadata": {},
   "outputs": [],
   "source": [
    "for continent, df in gapminder_2002.groupby('continent'):\n",
    "    plt.scatter(df['gdpPercap'], df['lifeExp'], s=df['bubble_size'], label = continent,\n",
    "    c = [continent_colors[continent]])\n",
    "plt.xscale('log')\n",
    "plt.title('Gapminder bubble plot (2002)')\n",
    "plt.xlabel('Income')\n",
    "plt.ylabel('Lifespan');"
   ]
  },
  {
   "cell_type": "markdown",
   "metadata": {},
   "source": [
    "7. Specify manually the xticks by `[300, 1000, 3000, 10000, 30000]`\n",
    "\n",
    "__Hint:__ you may have to use the following hack\n",
    "```\n",
    "ax = plt.gca()\n",
    "ax.get_xaxis().set_major_formatter(mpl.ticker.ScalarFormatter());\n",
    "```"
   ]
  },
  {
   "cell_type": "code",
   "execution_count": null,
   "metadata": {},
   "outputs": [],
   "source": [
    "#solution\n",
    "for continent, df in gapminder_2002.groupby('continent'):\n",
    "    plt.scatter(df['gdpPercap'], df['lifeExp'], s=df['bubble_size'], label = continent,\n",
    "    c = [continent_colors[continent]])\n",
    "plt.xscale('log')\n",
    "plt.title('Gapminder bubble plot (2002)')\n",
    "plt.xlabel('Income')\n",
    "plt.ylabel('Lifespan');\n",
    "plt.xticks([300, 1000, 3000, 10000, 30000])\n",
    "ax = plt.gca()\n",
    "ax.get_xaxis().set_major_formatter(mpl.ticker.ScalarFormatter());"
   ]
  },
  {
   "cell_type": "markdown",
   "metadata": {},
   "source": [
    "Adding a legend is normally as easy as adding `plt.legend()`"
   ]
  },
  {
   "cell_type": "code",
   "execution_count": null,
   "metadata": {},
   "outputs": [],
   "source": [
    "for continent, df in gapminder_2002.groupby('continent'):\n",
    "    plt.scatter(df['gdpPercap'], df['lifeExp'], s=df['bubble_size'], label = continent,\n",
    "    c = [continent_colors[continent]])\n",
    "plt.xscale('log')\n",
    "plt.title('Gapminder bubble plot (2002)')\n",
    "plt.xlabel('Income')\n",
    "plt.ylabel('Lifespan');\n",
    "plt.xticks([300, 1000, 3000, 10000, 30000])\n",
    "ax = plt.gca()\n",
    "ax.get_xaxis().set_major_formatter(mpl.ticker.ScalarFormatter());\n",
    "plt.legend();"
   ]
  },
  {
   "cell_type": "markdown",
   "metadata": {},
   "source": [
    "Unfortunately, we have use two channels the size and the color and we should have two separate legends.\n",
    "\n",
    "Fixing this issue proved to be quite challenging:"
   ]
  },
  {
   "cell_type": "code",
   "execution_count": null,
   "metadata": {},
   "outputs": [],
   "source": [
    "for continent, df in gapminder_2002.groupby('continent'):\n",
    "    plt.scatter(df['gdpPercap'], df['lifeExp'], s=df['bubble_size'], label = continent,\n",
    "    c = [continent_colors[continent]])\n",
    "plt.xscale('log')\n",
    "plt.title('Gapminder bubble plot (2002)')\n",
    "plt.xlabel('Income')\n",
    "plt.ylabel('Lifespan');\n",
    "plt.xticks([300, 1000, 3000, 10000, 30000])\n",
    "ax = plt.gca()\n",
    "ax.get_xaxis().set_major_formatter(mpl.ticker.ScalarFormatter());\n",
    "lgd = ax.legend()\n",
    "ax.add_artist(lgd)\n",
    "for handle in lgd.legendHandles:\n",
    "    handle.set_sizes([100.0])\n",
    "scatter = plt.scatter([None, None], [None, None],\n",
    "    s = [norm_pop(gapminder_2002['pop'].min()) * bubble_max_size,  norm_pop(gapminder_2002['pop'].max()) * bubble_max_size])\n",
    "kw = dict(prop=\"sizes\", num=5,\n",
    "          func=lambda s: norm_pop.inverse(s) / bubble_max_size)\n",
    "legend2 = ax.legend(*scatter.legend_elements(**kw),\n",
    "    loc = 'bottom right',\n",
    "    bbox_to_anchor=(0.8, 0.45) )"
   ]
  },
  {
   "cell_type": "markdown",
   "metadata": {},
   "source": [
    "\n",
    "Last but not least, we may polish the legend by giving title, overriding the dot sizes for the continent while maintaining the same order\n",
    "\n",
    "8. Use all your skills to do that (and specify the population in Millions).\n",
    "\n",
    "__Hint:__ Use the `title` keyword of the legend and the `format` argument of `legend_elements`."
   ]
  },
  {
   "cell_type": "code",
   "execution_count": null,
   "metadata": {},
   "outputs": [],
   "source": [
    "#solution\n",
    "for continent, df in gapminder_2002.groupby('continent'):\n",
    "    plt.scatter(df['gdpPercap'], df['lifeExp'], s=df['bubble_size'], label = continent,\n",
    "    c = [continent_colors[continent]])\n",
    "plt.xscale('log')\n",
    "plt.title('Gapminder bubble plot (2002)')\n",
    "plt.xlabel('Income')\n",
    "plt.ylabel('Lifespan');\n",
    "plt.xticks([300, 1000, 3000, 10000, 30000])\n",
    "ax = plt.gca()\n",
    "ax.get_xaxis().set_major_formatter(mpl.ticker.ScalarFormatter());\n",
    "lgd = ax.legend(title='Continent')\n",
    "ax.add_artist(lgd)\n",
    "for handle in lgd.legendHandles:\n",
    "    handle.set_sizes([100.0])\n",
    "scatter = plt.scatter([None, None], [None, None],\n",
    "    s = [norm_pop(gapminder_2002['pop'].min()) * bubble_max_size,  norm_pop(gapminder_2002['pop'].max()) * bubble_max_size])\n",
    "kw = dict(prop=\"sizes\", num=5, fmt=\"{x:.0f} M\",\n",
    "          func=lambda s: norm_pop.inverse(s) / (1e6 * bubble_max_size))\n",
    "legend2 = ax.legend(*scatter.legend_elements(**kw),\n",
    "    loc = 'bottom right',\n",
    "    title=\"Sizes\",  bbox_to_anchor=(0.8, 0.45) )"
   ]
  },
  {
   "cell_type": "markdown",
   "metadata": {},
   "source": [
    "## Other available framework\n",
    "\n",
    "__matplotlib__ is not the only plot framework in __Python__ even though it is probably the most flexible. We show here two implementation of the same graph using __plotly__ and __altair__, two frameworks relying on javascript.\n",
    "\n",
    "__plotly:__\n"
   ]
  },
  {
   "cell_type": "code",
   "execution_count": null,
   "metadata": {},
   "outputs": [],
   "source": [
    "fig = px.scatter(gapminder_2002,\n",
    "    x='gdpPercap', y='lifeExp',\n",
    "    color='continent', size='pop',\n",
    "    size_max=40, hover_name='country')\n",
    "fig.update_layout(\n",
    "    title=\"Gapminder bubble plot (2002)\",\n",
    "    xaxis_title=\"Income\",\n",
    "    yaxis_title=\"Lifespan\",\n",
    "    xaxis_type='log')\n",
    "fig.show()"
   ]
  },
  {
   "cell_type": "markdown",
   "metadata": {},
   "source": [
    "__altair:__"
   ]
  },
  {
   "cell_type": "code",
   "execution_count": null,
   "metadata": {},
   "outputs": [],
   "source": [
    "alt.Chart(gapminder_2002, title='Gapminder bubble plot (2002)').\\\n",
    "    mark_circle().\\\n",
    "    encode(x=alt.X('gdpPercap:Q', scale=alt.Scale(type='log'), title='Income'),\n",
    "        y=alt.Y('lifeExp:Q', scale=alt.Scale(zero=False), title='Lifespan'),\n",
    "        color=alt.Color('continent:N', title='Continent'),\n",
    "        size=alt.Size('pop:Q', title='Population', scale=alt.Scale(range=[0, 1000]), legend = alt.Legend(format='~s')),\n",
    "        tooltip=['country', 'pop']\n",
    "    ).interactive()"
   ]
  },
  {
   "cell_type": "markdown",
   "metadata": {},
   "source": [
    "Note that both framework are inspired by the grammar of graphics rather than __matlab__: one specifies the mapping between the variables and the aesthetics and let the magic happens."
   ]
  },
  {
   "cell_type": "markdown",
   "metadata": {},
   "source": [
    "# Adding the temporal dimension\n",
    "\n",
    "The goal is now to visualize the same information across the years."
   ]
  },
  {
   "cell_type": "markdown",
   "metadata": {},
   "source": [
    "## Using facets\n",
    "\n",
    "Small multiples, or facets, are repetitions of the same graph for several similar datasets. They can easily be obtained with the `fig.suplots`\n",
    "9. Obtain the bubble plot for all the years\n",
    "\n",
    "__Hint:__ You may use the following pattern"
   ]
  },
  {
   "cell_type": "code",
   "execution_count": null,
   "metadata": {},
   "outputs": [],
   "source": [
    "gapminder_year = gapminder.groupby('year')\n",
    "fig, axs = plt.subplots(nrows=1 + ((gapminder_year.ngroups - 1) // 4), ncols=4, sharex=True, sharey=True,\n",
    "    figsize=(15, 12))\n",
    "axs_flat = axs.flatten()\n",
    "for i, (year, data) in enumerate(gapminder_year):\n",
    "    axs_flat[i].scatter(data['gdpPercap'], data['lifeExp'])"
   ]
  },
  {
   "cell_type": "code",
   "execution_count": null,
   "metadata": {},
   "outputs": [],
   "source": [
    "gapminder_year = gapminder.groupby('year')\n",
    "fig, axs = plt.subplots(nrows=1 + ((gapminder_year.ngroups - 1) // 4), ncols=4, sharex=True, sharey=True,\n",
    "    figsize=(15, 12))\n",
    "plt.xscale('log')\n",
    "plt.xticks([300, 1000, 3000, 10000, 30000])\n",
    "axs_flat = axs.flatten()\n",
    "for i, (year, data) in enumerate(gapminder_year):\n",
    "    for continent, df in data.groupby('continent'):\n",
    "        axs_flat[i].scatter(df['gdpPercap'], df['lifeExp'], s=norm_pop(df['pop']) * bubble_max_size, label = continent,\n",
    "            c = [continent_colors[continent]])\n",
    "    axs_flat[i].set_title(f'year : {year}')\n",
    "    axs_flat[i].get_xaxis().set_major_formatter(mpl.ticker.ScalarFormatter());\n",
    "fig.add_subplot(111, frameon=False)\n",
    "plt.tick_params(labelcolor='none', top=False, bottom=False, left=False, right=False)\n",
    "plt.xlabel('Income')\n",
    "plt.ylabel('Lifespan');"
   ]
  },
  {
   "cell_type": "markdown",
   "metadata": {},
   "source": [
    "## Using animation\n",
    "\n",
    "The `year` variable is a natural candidate for a temporal axis. One can use the `Camera` function of celluloid to capture a sequence of plots:\n",
    "\n"
   ]
  },
  {
   "cell_type": "code",
   "execution_count": null,
   "metadata": {},
   "outputs": [],
   "source": [
    "fig, ax = plt.subplots()\n",
    "camera = Camera(fig)\n",
    "for i in range(10):\n",
    "    plt.plot([0, i], [0, i])\n",
    "    camera.snap()\n",
    "anim = camera.animate();\n",
    "plt.close(fig)"
   ]
  },
  {
   "cell_type": "markdown",
   "metadata": {},
   "source": [
    "and then produce an animation"
   ]
  },
  {
   "cell_type": "code",
   "execution_count": null,
   "metadata": {},
   "outputs": [],
   "source": [
    "HTML(anim.to_html5_video())"
   ]
  },
  {
   "cell_type": "markdown",
   "metadata": {},
   "source": [
    "or save it in a file"
   ]
  },
  {
   "cell_type": "code",
   "execution_count": null,
   "metadata": {},
   "outputs": [],
   "source": [
    "anim.save('animation.gif', writer='imagemagick', fps=5)"
   ]
  },
  {
   "cell_type": "markdown",
   "metadata": {},
   "source": [
    "10. Use this approach to produce a bubble plot animation across the years.\n",
    "\n",
    "__Hint:__ You may use `ax.text` with `transform=ax.transAxes` to place the title.\n"
   ]
  },
  {
   "cell_type": "code",
   "execution_count": null,
   "metadata": {},
   "outputs": [],
   "source": [
    "#solution\n",
    "fig, ax = plt.subplots()\n",
    "plt.xscale('log')\n",
    "plt.xticks([300, 1000, 3000, 10000, 30000])\n",
    "camera = Camera(fig)\n",
    "for year, data in gapminder_year:\n",
    "    ax = plt.gca()\n",
    "    for continent, df in data.groupby('continent'):\n",
    "        ax.scatter(df['gdpPercap'], df['lifeExp'], s=norm_pop(df['pop']) * bubble_max_size, label = continent,\n",
    "            c = [continent_colors[continent]])\n",
    "    ax.text(.5, 1.025, f'year: {year}', transform=ax.transAxes, fontsize='large')\n",
    "    ax.get_xaxis().set_major_formatter(mpl.ticker.ScalarFormatter());\n",
    "    camera.snap()\n",
    "anim = camera.animate();\n",
    "plt.close(fig)"
   ]
  },
  {
   "cell_type": "code",
   "execution_count": null,
   "metadata": {},
   "outputs": [],
   "source": [
    "#solution\n",
    "anim.save('gapminder.gif', writer='imagemagick', fps=5)"
   ]
  },
  {
   "cell_type": "code",
   "execution_count": null,
   "metadata": {},
   "outputs": [],
   "source": [
    "#solution\n",
    "HTML(anim.to_html5_video())"
   ]
  },
  {
   "cell_type": "markdown",
   "metadata": {},
   "source": [
    "## Using the trace of the countries"
   ]
  },
  {
   "cell_type": "markdown",
   "metadata": {},
   "source": [
    "We may also use a completely different approach. \n",
    "One may draw the full trajectory along the years of each country in the same plot\n",
    "\n",
    "\n",
    "11. Display such a plot and add the color for each continent.\n",
    "\n",
    "__Hint:__ Use `plt.plot`"
   ]
  },
  {
   "cell_type": "code",
   "execution_count": null,
   "metadata": {},
   "outputs": [],
   "source": [
    "#solution\n",
    "for country, df in gapminder.groupby('country'):\n",
    "    plt.plot(df['gdpPercap'], df['lifeExp'], c = continent_colors[df['continent'].iloc[0]])\n",
    "plt.xscale('log')\n",
    "plt.xlabel('Income')\n",
    "plt.ylabel('Lifespan');\n",
    "plt.xticks([300, 1000, 3000, 10000, 30000])\n",
    "ax = plt.gca()\n",
    "ax.get_xaxis().set_major_formatter(mpl.ticker.ScalarFormatter());\n"
   ]
  },
  {
   "cell_type": "markdown",
   "metadata": {},
   "source": [
    "12. Add the population information through the size of the lines.\n",
    "\n",
    "__Hint:__ A line in __plt.plot__ should have a single width but you can use the following hack.\n"
   ]
  },
  {
   "cell_type": "code",
   "execution_count": null,
   "metadata": {},
   "outputs": [],
   "source": [
    "def plot_width(x, y, w, c):\n",
    "    for i in range(len(x)-1):\n",
    "        plt.plot(x.iloc[[i, i+1]], y.iloc[[i, i+1]], linewidth=w[i], c=c)"
   ]
  },
  {
   "cell_type": "code",
   "execution_count": null,
   "metadata": {},
   "outputs": [],
   "source": [
    "#solution\n",
    "for country, df in gapminder.groupby('country'):\n",
    "    plot_width(df['gdpPercap'], df['lifeExp'], norm_pop(df['pop']) * 10,\n",
    "        c = continent_colors[df['continent'].iloc[0]])\n",
    "plt.xscale('log')\n",
    "plt.xlabel('Income')\n",
    "plt.ylabel('Lifespan');\n",
    "plt.xticks([300, 1000, 3000, 10000, 30000])\n",
    "plt.ylim([30, 85])\n",
    "ax = plt.gca()\n",
    "ax.get_xaxis().set_major_formatter(mpl.ticker.ScalarFormatter());"
   ]
  },
  {
   "cell_type": "markdown",
   "metadata": {},
   "source": [
    "In the previous approach, the size between two years is kept constant \n",
    "and proportionnal to the population of the start.\n",
    "\n",
    "13. Find a way to have a smoother transition.\n",
    "\n",
    "__Hint:__ One may enhance the previous `plot_width` function:"
   ]
  },
  {
   "cell_type": "code",
   "execution_count": null,
   "metadata": {},
   "outputs": [],
   "source": [
    "def plot_width(x, y, w, c, n=10):\n",
    "    t = np.arange(len(x))\n",
    "    t_r = np.arange(0, len(x), 1/n)\n",
    "    x_r = np.interp(t_r, t, x)\n",
    "    y_r = np.interp(t_r, t, y)\n",
    "    w_r = np.interp(t_r, t, w)\n",
    "    points = np.concatenate([x_r[:, None], y_r[:, None]], axis=1).reshape(-1, 1, 2)\n",
    "    segments = np.concatenate([points[:-1], points[1:]], axis=1)\n",
    "    lc = mpl.collections.LineCollection(segments, linewidths=w_r[:-1], color=c)\n",
    "    plt.scatter(x, y, s=w ** 2 / np.sqrt(2), color=c)\n",
    "    ax = plt.gca()\n",
    "    ax.add_collection(lc)"
   ]
  },
  {
   "cell_type": "code",
   "execution_count": null,
   "metadata": {},
   "outputs": [],
   "source": [
    "#solution\n",
    "for country, df in gapminder.groupby('country'):\n",
    "    plot_width(df['gdpPercap'], df['lifeExp'], norm_pop(df['pop']) * 10,\n",
    "     c = continent_colors[df['continent'].iloc[0]])\n",
    "plt.xscale('log')\n",
    "plt.xlabel('Income')\n",
    "plt.ylabel('Lifespan');\n",
    "plt.xticks([300, 1000, 3000, 10000, 30000])\n",
    "plt.ylim([30, 85])\n",
    "ax = plt.gca()\n",
    "ax.get_xaxis().set_major_formatter(mpl.ticker.ScalarFormatter());"
   ]
  },
  {
   "cell_type": "markdown",
   "metadata": {},
   "source": [
    "As a general comment, adding new functionalities to __matplotlib__ is a matter of using the basic primitives it is based on. You have to dwelled into __matplotlib__ documentation for that."
   ]
  },
  {
   "cell_type": "markdown",
   "metadata": {},
   "source": [
    "14. Propose a plot highlighting the trajectory of a few countries:"
   ]
  },
  {
   "cell_type": "code",
   "execution_count": null,
   "metadata": {},
   "outputs": [],
   "source": [
    "highlights = ['China', 'France', 'India', 'United States']"
   ]
  },
  {
   "cell_type": "markdown",
   "metadata": {},
   "source": [
    "__Hint:__ You may plot all the countries in grey and overplot the selected countries"
   ]
  },
  {
   "cell_type": "code",
   "execution_count": null,
   "metadata": {},
   "outputs": [],
   "source": [
    "#solution\n",
    "highlights_colors = dict(zip(highlights, colors(range(len(highlights)))))\n",
    "for country, df in gapminder.groupby('country'):\n",
    "    plot_width(df['gdpPercap'], df['lifeExp'], norm_pop(df['pop']) * 10,\n",
    "        c='grey')\n",
    "for country in highlights:\n",
    "    df = gapminder[gapminder['country'] == country]\n",
    "    plot_width(df['gdpPercap'], df['lifeExp'], norm_pop(df['pop']) * 10,\n",
    "        c=highlights_colors[country])\n",
    "plt.xscale('log')\n",
    "plt.xlabel('Income')\n",
    "plt.ylabel('Lifespan');\n",
    "plt.xticks([300, 1000, 3000, 10000, 30000])\n",
    "plt.ylim([30, 85])\n",
    "ax = plt.gca()\n",
    "ax.get_xaxis().set_major_formatter(mpl.ticker.ScalarFormatter());\n",
    "custom_lgd = [mpl.lines.Line2D([0], [0], color=highlights_colors[country], lw=4, label=country) for country in highlights]\n",
    "ax.legend(handles=custom_lgd);\n"
   ]
  },
  {
   "cell_type": "markdown",
   "metadata": {},
   "source": [
    "# Map and choroplet\n",
    "\n",
    "Spatial tools have made tremendeous progresses in the last years and it is\n",
    "now really easy to produce a choroplet: a map in which region are filled\n",
    "according to a value.\n",
    "\n",
    "## A base map\n",
    "\n",
    "The first step is to read the base map"
   ]
  },
  {
   "cell_type": "code",
   "execution_count": null,
   "metadata": {},
   "outputs": [],
   "source": [
    "world_map = gpd.read_file('../data/UIA_World_Countries_Boundaries.shp')"
   ]
  },
  {
   "cell_type": "markdown",
   "metadata": {},
   "source": [
    "It corresponds to a classical dataframe augmented by a geometry column"
   ]
  },
  {
   "cell_type": "code",
   "execution_count": null,
   "metadata": {},
   "outputs": [],
   "source": [
    "world_map"
   ]
  },
  {
   "cell_type": "markdown",
   "metadata": {},
   "source": [
    "that allows to produce map:"
   ]
  },
  {
   "cell_type": "code",
   "execution_count": null,
   "metadata": {},
   "outputs": [],
   "source": [
    "world_map.plot();"
   ]
  },
  {
   "cell_type": "markdown",
   "metadata": {},
   "source": [
    "## Data cleaning\n",
    "\n",
    "We should now combine this map with the gapminder columns. \n",
    "As often, we have to tackle a data cleaning issue, i.e. a small name mismatch."
   ]
  },
  {
   "cell_type": "code",
   "execution_count": null,
   "metadata": {},
   "outputs": [],
   "source": [
    "def trDataFrame(columns, *data):\n",
    "    return pd.DataFrame(\n",
    "        data=list(zip(*[iter(data)]*len(columns))),\n",
    "        columns=columns\n",
    "    )"
   ]
  },
  {
   "cell_type": "code",
   "execution_count": null,
   "metadata": {},
   "outputs": [],
   "source": [
    "gapminder_world_map_name_difference = trDataFrame(\n",
    "    ['country', 'COUNTRYAFF'],\n",
    "    \"Congo, Dem. Rep.\", \"Congo DRC\",\n",
    "    \"Congo, Rep.\",  \"Congo\",\n",
    "    \"Cote d'Ivoire\", \"Côte d'Ivoire\",\n",
    "    \"Hong Kong, China\", np.NaN,\n",
    "    \"Korea, Dem. Rep.\", \"North Korea\",\n",
    "    \"Korea, Rep.\", \"South Korea\", \n",
    "    \"Puerto Rico\", np.NaN,\n",
    "    \"Reunion\", np.NaN,\n",
    "    \"Slovak Republic\", \"Slovakia\",\n",
    "    \"Swaziland\", np.NaN,\n",
    "    \"Taiwan\", np.NaN,\n",
    "    \"West Bank and Gaza\", \"Palestinian Territory\", \n",
    "    \"Yemen, Rep.\", \"Yemen\"\n",
    ")\n",
    "world_map = world_map.merge(gapminder_world_map_name_difference,\n",
    "    on='COUNTRYAFF', how='left')\n",
    "world_map.loc[pd.isna(world_map['country']), 'country'] = world_map.loc[pd.isna(world_map['country']), 'COUNTRYAFF']"
   ]
  },
  {
   "cell_type": "markdown",
   "metadata": {},
   "source": [
    "15. Join the two datasets.\n",
    "\n",
    "__Hint:__ Use a _left_ `merge` "
   ]
  },
  {
   "cell_type": "code",
   "execution_count": null,
   "metadata": {},
   "outputs": [],
   "source": [
    "world_map = world_map.merge(gapminder_2002,\n",
    "    on='country', how='left')"
   ]
  },
  {
   "cell_type": "markdown",
   "metadata": {},
   "source": [
    "## Choroplet\n",
    "\n",
    "Obtaining a choroplet is _as simple as_"
   ]
  },
  {
   "cell_type": "code",
   "execution_count": null,
   "metadata": {},
   "outputs": [],
   "source": [
    "world_map.plot(column='lifeExp', missing_kwds={'color': 'lightgrey'});"
   ]
  },
  {
   "cell_type": "markdown",
   "metadata": {},
   "source": [
    "Note the use of `missing_kwds` to visualize the missing countries."
   ]
  },
  {
   "cell_type": "markdown",
   "metadata": {},
   "source": [
    "16. Change the default colormap to the _inferno_ one.\n",
    "\n",
    "__Hint:__ Use the `cmap` argument."
   ]
  },
  {
   "cell_type": "code",
   "execution_count": null,
   "metadata": {},
   "outputs": [],
   "source": [
    "world_map.plot(column='lifeExp', cmap='inferno', missing_kwds={'color': 'lightgrey'});"
   ]
  },
  {
   "cell_type": "markdown",
   "metadata": {},
   "source": [
    "## Graticules\n",
    "\n",
    "Graticules (coordinates grid) are a precious help when dealing with maps.\n",
    "The following command loads a grid of latitudes and longitudes evenly spaced every 10 degrees. "
   ]
  },
  {
   "cell_type": "code",
   "execution_count": null,
   "metadata": {},
   "outputs": [],
   "source": [
    "graticule = gpd.read_file('../data/graticule.shp')"
   ]
  },
  {
   "cell_type": "markdown",
   "metadata": {},
   "source": [
    "17. Add this grid to the map.\n",
    "\n",
    "__Hint:__ You may want to play with `color`, `linewidth` and `zorder`.\n"
   ]
  },
  {
   "cell_type": "code",
   "execution_count": null,
   "metadata": {},
   "outputs": [],
   "source": [
    "ax = plt.gca()\n",
    "graticule.plot(ax=ax, color='lightgray', linewidth=.5, zorder=-1)\n",
    "world_map.plot(ax=ax, column='lifeExp', cmap='inferno', missing_kwds={'color': 'lightgrey'})\n",
    "plt.axis('off');"
   ]
  },
  {
   "cell_type": "markdown",
   "metadata": {},
   "source": [
    "## Projection\n",
    "\n",
    "As the earth is (mostly) spherical, there is always a projection involvec\n",
    "in map. With __geopandas__, one can specify a new projection using the `to_crs` method.\n",
    "\n",
    "\n",
    "18. Project the map and the graricule using the Mollweide projection.\n",
    "\n",
    "__Hint:__ This projection is described by the parameters `+proj=moll`."
   ]
  },
  {
   "cell_type": "code",
   "execution_count": null,
   "metadata": {},
   "outputs": [],
   "source": [
    "#solution\n",
    "world_map_proj = world_map.to_crs(\"+proj=moll\") \n",
    "graticule_proj = graticule.to_crs(\"+proj=moll\") "
   ]
  },
  {
   "cell_type": "code",
   "execution_count": null,
   "metadata": {},
   "outputs": [],
   "source": [
    "#solution\n",
    "ax = plt.gca()\n",
    "graticule_proj.plot(ax=ax, color='lightgray', linewidth=.5, zorder=-1)\n",
    "world_map_proj.plot(ax=ax, column='lifeExp', cmap='inferno', missing_kwds={'color': 'lightgrey'})\n",
    "plt.axis('off');"
   ]
  },
  {
   "cell_type": "markdown",
   "metadata": {},
   "source": [
    "##Legend\n",
    "\n",
    "The only missing piece is the legend.\n",
    "\n",
    "19. Add a colormap legend\n",
    "\n",
    "__Hint:__ Use the `legend` keyword of the `plot` method."
   ]
  },
  {
   "cell_type": "code",
   "execution_count": null,
   "metadata": {},
   "outputs": [],
   "source": [
    "#solution\n",
    "ax = plt.gca()\n",
    "graticule_proj.plot(ax=ax, color='lightgray', linewidth=.5, zorder=-1)\n",
    "world_map_proj.plot(ax=ax, column='lifeExp', cmap='inferno', missing_kwds={'color': 'lightgrey'}, legend=True)\n",
    "plt.axis('off');\n",
    "plt.title('Life Expectation in 2002');"
   ]
  },
  {
   "cell_type": "markdown",
   "metadata": {},
   "source": [
    "A better legend can be obtain with some tweaks:"
   ]
  },
  {
   "cell_type": "code",
   "execution_count": null,
   "metadata": {},
   "outputs": [],
   "source": [
    "fig, ax = plt.subplots()\n",
    "vmin = gapminder_2002['lifeExp'].min()\n",
    "vmax = gapminder_2002['lifeExp'].max()\n",
    "vnorm = mpl.colors.Normalize(vmin=vmin, vmax=vmax)\n",
    "sm = plt.cm.ScalarMappable(cmap='inferno', norm=vnorm)\n",
    "fig.colorbar(sm, orientation=\"vertical\", fraction=.025, pad=0.1, aspect = 10)\n",
    "graticule_proj.plot(ax=ax, color='lightgray', linewidth=.5, zorder=-1)\n",
    "world_map_proj.plot(ax=ax, column='lifeExp', cmap='inferno', norm=vnorm,\n",
    "    missing_kwds={'color': 'lightgrey'})\n",
    "plt.axis('off')\n",
    "plt.title('Life Expectation in 2002');"
   ]
  },
  {
   "cell_type": "markdown",
   "metadata": {},
   "source": [
    "# Exploration\n",
    "\n",
    "We will conclude this lab by a quick (and not so dirty) visual exploration of the dataset.\n",
    "We will look at the most classical representations of the most classical data types.\n",
    "\n"
   ]
  },
  {
   "cell_type": "markdown",
   "metadata": {},
   "source": [
    "## Counts\n",
    "\n",
    "Count plots are probably the most common type of plots.\n",
    "\n",
    "### Bar plot\n",
    "\n",
    "Bar plots, in which the height (and the surface) or bars are proportionnal to the count is now ubiquitous.\n",
    "\n",
    "Afte computing the counts:"
   ]
  },
  {
   "cell_type": "code",
   "execution_count": null,
   "metadata": {},
   "outputs": [],
   "source": [
    "gapminder_count = pd.DataFrame({'n': gapminder_2002.groupby('continent', as_index=False).size()}).reset_index()\n",
    "gapminder_count"
   ]
  },
  {
   "cell_type": "markdown",
   "metadata": {},
   "source": [
    "we can use `plt.bar` to visualize them:"
   ]
  },
  {
   "cell_type": "code",
   "execution_count": null,
   "metadata": {},
   "outputs": [],
   "source": [
    "plt.bar(gapminder_count['continent'], gapminder_count['n']);"
   ]
  },
  {
   "cell_type": "markdown",
   "metadata": {},
   "source": [
    "20. Change the code so that the bars are horizontal\n",
    "\n",
    "__Hint:__ Use `plt.barh`"
   ]
  },
  {
   "cell_type": "code",
   "execution_count": null,
   "metadata": {},
   "outputs": [],
   "source": [
    "#solution\n",
    "plt.barh(gapminder_count['continent'], gapminder_count['n']);"
   ]
  },
  {
   "cell_type": "markdown",
   "metadata": {},
   "source": [
    "21. Add some (redundant) colors to the bars.\n",
    "\n",
    "__Hint:__ Use the `color` keyword."
   ]
  },
  {
   "cell_type": "code",
   "execution_count": null,
   "metadata": {},
   "outputs": [],
   "source": [
    "#solution\n",
    "plt.barh(gapminder_count['continent'], gapminder_count['n'], color=gapminder_count['continent'].map(continent_colors));"
   ]
  },
  {
   "cell_type": "markdown",
   "metadata": {},
   "source": [
    "### Stacked bar plot\n",
    "\n",
    "The bars can be put one on the top of another to obtain a stacked bar plot."
   ]
  },
  {
   "cell_type": "code",
   "execution_count": null,
   "metadata": {},
   "outputs": [],
   "source": [
    "gapminder_count['cum_n'] = gapminder_count['n'][::-1].cumsum()[::-1]"
   ]
  },
  {
   "cell_type": "code",
   "execution_count": null,
   "metadata": {},
   "outputs": [],
   "source": [
    "plt.barh(\" \", gapminder_count['cum_n'], color=gapminder_count['continent'].map(continent_colors));"
   ]
  },
  {
   "cell_type": "markdown",
   "metadata": {},
   "source": [
    "This representation is much more interesting where there a two different type of categories.\n",
    "\n",
    "21. Produce a stacked bar plot for the continent and the fact that the life expectation is above 70.\n",
    "\n",
    "__Hint:__ You can use the following code and be inspired by the previous example.\n"
   ]
  },
  {
   "cell_type": "code",
   "execution_count": null,
   "metadata": {},
   "outputs": [],
   "source": [
    "gapminder_2002['above_70'] = (gapminder_2002['lifeExp'] >= 70).replace({True: 'Above 70', False: 'Below 70'})\n",
    "gapminder_count2 = pd.DataFrame({'n': gapminder_2002.groupby(['above_70', 'continent']).size()}).reset_index()\n",
    "gapminder_count2"
   ]
  },
  {
   "cell_type": "code",
   "execution_count": null,
   "metadata": {},
   "outputs": [],
   "source": [
    "#solution\n",
    "gapminder_count2['cum_n'] = gapminder_count2.groupby('above_70')['n'].apply(lambda x: x[::-1].cumsum()[::-1])"
   ]
  },
  {
   "cell_type": "code",
   "execution_count": null,
   "metadata": {},
   "outputs": [],
   "source": [
    "#solution\n",
    "plt.barh(gapminder_count2['above_70'], gapminder_count2['cum_n'], color=gapminder_count2['continent'].map(continent_colors));"
   ]
  },
  {
   "cell_type": "markdown",
   "metadata": {},
   "source": [
    "### Pie plot\n",
    "\n",
    "A pie plot can be seen as a stacked plot... in polar coordinates... which hides the total number information:\n"
   ]
  },
  {
   "cell_type": "code",
   "execution_count": null,
   "metadata": {},
   "outputs": [],
   "source": [
    "plt.pie(gapminder_count['n'], colors=gapminder_count['continent'].map(continent_colors), autopct='%1.1f%%', labels=gapminder_count['continent']);"
   ]
  },
  {
   "cell_type": "markdown",
   "metadata": {},
   "source": [
    "22. Produce a pie for each life expectancy category."
   ]
  },
  {
   "cell_type": "code",
   "execution_count": null,
   "metadata": {},
   "outputs": [],
   "source": [
    "#solution\n",
    "fig, axs = plt.subplots(ncols=2)\n",
    "axs_flat = axs.flatten()\n",
    "for i, (above, df) in enumerate(gapminder_count2.groupby('above_70')):\n",
    "    axs_flat[i].pie(df['n'], colors=df['continent'].map(continent_colors), autopct='%1.1f%%', labels=df['continent']);\n",
    "    axs_flat[i].set_title(above)"
   ]
  },
  {
   "cell_type": "markdown",
   "metadata": {},
   "source": [
    "## Quantities\n"
   ]
  },
  {
   "cell_type": "markdown",
   "metadata": {},
   "source": [
    "## Bar plot\n",
    "\n",
    "This is very similar to counts, except that the bar surface is proportional \n",
    "to a arbitrary quantity rather than a count."
   ]
  },
  {
   "cell_type": "markdown",
   "metadata": {},
   "source": [
    "23. Visualize the gdpPercap by continent\n",
    "\n",
    "__Hint:__ You should use a weighted mean rather than a classical one.\n"
   ]
  },
  {
   "cell_type": "code",
   "execution_count": null,
   "metadata": {},
   "outputs": [],
   "source": [
    "#solution\n",
    "gapminder_2002_continent = gapminder_2002.groupby('continent').\\\n",
    "    apply(lambda df: pd.Series({'gdpPercap': (df['gdpPercap'] * df['pop']).sum() / df['pop'].sum()})).\\\n",
    "    reset_index()"
   ]
  },
  {
   "cell_type": "code",
   "execution_count": null,
   "metadata": {},
   "outputs": [],
   "source": [
    "#solution\n",
    "plt.barh(gapminder_2002_continent['continent'], gapminder_2002_continent['gdpPercap'])"
   ]
  },
  {
   "cell_type": "markdown",
   "metadata": {},
   "source": [
    "24. Order the plot by gdp per capita\n",
    "\n",
    "__Hint:__ Use `sort_values`."
   ]
  },
  {
   "cell_type": "code",
   "execution_count": null,
   "metadata": {},
   "outputs": [],
   "source": [
    "gapminder_2002_continent = gapminder_2002_continent.sort_values('gdpPercap')"
   ]
  },
  {
   "cell_type": "code",
   "execution_count": null,
   "metadata": {},
   "outputs": [],
   "source": [
    "plt.barh(gapminder_2002_continent['continent'], gapminder_2002_continent['gdpPercap'])"
   ]
  },
  {
   "cell_type": "markdown",
   "metadata": {},
   "source": [
    "### Distributions\n",
    "\n",
    "Instead of a summary, we may be interested in the _repartition_ of the values."
   ]
  },
  {
   "cell_type": "markdown",
   "metadata": {},
   "source": [
    "#### Histogram\n",
    "\n",
    "This is a count plot in which the bins are of the same (arbitrary) width."
   ]
  },
  {
   "cell_type": "code",
   "execution_count": null,
   "metadata": {},
   "outputs": [],
   "source": [
    "plt.hist(gapminder_2002['gdpPercap'])"
   ]
  },
  {
   "cell_type": "markdown",
   "metadata": {},
   "source": [
    "25. Specify the bins so that they starts at 0 and are of width 5000.\n",
    "\n",
    "__Hint:__ Use `np.arange` and the `bins` keyword."
   ]
  },
  {
   "cell_type": "code",
   "execution_count": null,
   "metadata": {},
   "outputs": [],
   "source": [
    "#solution\n",
    "bins = np.arange(0, 50001, 5000)\n",
    "plt.hist(gapminder_2002['gdpPercap'], bins=bins);"
   ]
  },
  {
   "cell_type": "markdown",
   "metadata": {},
   "source": [
    "26. What happens if we choose the binwidth equal to 100?"
   ]
  },
  {
   "cell_type": "code",
   "execution_count": null,
   "metadata": {},
   "outputs": [],
   "source": [
    "#solution\n",
    "bins = np.arange(0, 50001, 100)\n",
    "plt.hist(gapminder_2002['gdpPercap'], bins=bins);"
   ]
  },
  {
   "cell_type": "markdown",
   "metadata": {},
   "source": [
    "One can add the continent information by splitting the data into buckets:"
   ]
  },
  {
   "cell_type": "code",
   "execution_count": null,
   "metadata": {},
   "outputs": [],
   "source": [
    "slice = [ df['gdpPercap'] for s, df in gapminder_2002.groupby('continent')]\n",
    "slice_name = [s for s, df in gapminder_2002.groupby('continent')]"
   ]
  },
  {
   "cell_type": "code",
   "execution_count": null,
   "metadata": {},
   "outputs": [],
   "source": [
    "plt.hist(slice);"
   ]
  },
  {
   "cell_type": "markdown",
   "metadata": {},
   "source": [
    "27. By default, this is a dogded bar plot. How to obtain its stacked version.\n",
    "\n",
    "__Hint:__ Use the `stacked` keyword.\n"
   ]
  },
  {
   "cell_type": "code",
   "execution_count": null,
   "metadata": {},
   "outputs": [],
   "source": [
    "plt.hist(slice, stacked=True);"
   ]
  },
  {
   "cell_type": "markdown",
   "metadata": {},
   "source": [
    "28. Use the facetting system to obtain an histogram by continent.\n"
   ]
  },
  {
   "cell_type": "code",
   "execution_count": null,
   "metadata": {},
   "outputs": [],
   "source": [
    "#solution\n",
    "bins = np.arange(0, 50001, 5000)\n",
    "gapminder_2002_continent = gapminder_2002.groupby('continent')\n",
    "fig, axs = plt.subplots(nrows=1 + (gapminder_2002_continent.ngroups - 1) // 2, ncols=2, sharex=True, sharey=True, figsize=(10,10))\n",
    "axs_flat = axs.flatten()\n",
    "for i, (continent, data) in enumerate(gapminder_2002_continent):\n",
    "    axs_flat[i].hist(data['gdpPercap'], bins=bins)\n",
    "    axs_flat[i].set_title(f'{continent}')\n",
    "if (axs_flat.size > gapminder_2002_continent.ngroups):\n",
    "    for i in range(gapminder_2002_continent.ngroups, axs_flat.size):\n",
    "        axs_flat[i].remove()\n",
    "    last_but_one_row = (gapminder_2002_continent.ngroups - 1) // 2\n",
    "    if (last_but_one_row > 0):\n",
    "        for i in range((last_but_one_row - 1) * 2 , last_but_one_row * 2):\n",
    "            if (i + 2 >= gapminder_2002_continent.ngroups):\n",
    "                axs_flat[i].tick_params(labelbottom=True)"
   ]
  },
  {
   "cell_type": "markdown",
   "metadata": {},
   "source": [
    "Note that __seaborn__ proposes an alternative way to define those faceted plots:"
   ]
  },
  {
   "cell_type": "code",
   "execution_count": null,
   "metadata": {},
   "outputs": [],
   "source": [
    "def plot_hist(** kwargs):\n",
    "    data = kwargs.pop('data')\n",
    "    ax = plt.gca()\n",
    "    ax.hist(data['gdpPercap'], bins=bins)  "
   ]
  },
  {
   "cell_type": "code",
   "execution_count": null,
   "metadata": {},
   "outputs": [],
   "source": [
    "g = sns.FacetGrid(gapminder_2002, col='continent', col_wrap=2)\n",
    "g.map_dataframe(plot_hist)"
   ]
  },
  {
   "cell_type": "markdown",
   "metadata": {},
   "source": [
    "### Density\n",
    "\n",
    "Density can be seen as _smoothed_ version of histogram. \n",
    "The main difference is that they are renormalized so that \n",
    "the integral under the density curve is equal to 1."
   ]
  },
  {
   "cell_type": "code",
   "execution_count": null,
   "metadata": {},
   "outputs": [],
   "source": [
    "sns.kdeplot(gapminder_2002['gdpPercap'], legend=False)"
   ]
  },
  {
   "cell_type": "markdown",
   "metadata": {},
   "source": [
    "29. Renormalize the histogram so that the total area of the bars is equal to 1\n",
    "\n",
    "__Hint:__ You can use the 'density' keyword"
   ]
  },
  {
   "cell_type": "code",
   "execution_count": null,
   "metadata": {},
   "outputs": [],
   "source": [
    "#solution\n",
    "bins = np.arange(0, 50001, 5000)\n",
    "plt.hist(gapminder_2002['gdpPercap'], bins=bins, density=True);"
   ]
  },
  {
   "cell_type": "markdown",
   "metadata": {},
   "source": [
    "30. Superpose the density plots for the different continents."
   ]
  },
  {
   "cell_type": "code",
   "execution_count": null,
   "metadata": {},
   "outputs": [],
   "source": [
    "for continent, df  in gapminder_2002.groupby('continent'):\n",
    "    sns.kdeplot(df['gdpPercap'], label=continent)"
   ]
  },
  {
   "cell_type": "markdown",
   "metadata": {},
   "source": [
    "31. Propose a facet plot."
   ]
  },
  {
   "cell_type": "code",
   "execution_count": null,
   "metadata": {},
   "outputs": [],
   "source": [
    "def plot_kde(** kwargs):\n",
    "    data = kwargs.pop('data')\n",
    "    ax = plt.gca()\n",
    "    sns.kdeplot(data['gdpPercap'], ax=ax)"
   ]
  },
  {
   "cell_type": "code",
   "execution_count": null,
   "metadata": {},
   "outputs": [],
   "source": [
    "g = sns.FacetGrid(gapminder_2002, col='continent', col_wrap=2)\n",
    "g.map_dataframe(plot_kde)"
   ]
  },
  {
   "cell_type": "markdown",
   "metadata": {},
   "source": [
    "### Interactions\n",
    "\n",
    "Our final type of visualization is for the interaction bewteen two variables.\n",
    "Something we may have already seen before...\n",
    "\n",
    "#### Box plot\n",
    "\n",
    "The most classical representation of the interaction between a categorical variable\n",
    "and a continuous one is the box plot:"
   ]
  },
  {
   "cell_type": "code",
   "execution_count": null,
   "metadata": {},
   "outputs": [],
   "source": [
    "box = plt.boxplot(slice, labels=slice_name, patch_artist=True, medianprops = {'color': 'black'})\n",
    "for patch, continent in zip(box['boxes'], slice_name):\n",
    "    patch.set_facecolor(continent_colors[continent])"
   ]
  },
  {
   "cell_type": "code",
   "execution_count": null,
   "metadata": {},
   "outputs": [],
   "source": [
    "sns.boxplot(gapminder_2002['continent'], gapminder_2002['gdpPercap'], order=slice_name,\n",
    "palette=continent_colors)"
   ]
  },
  {
   "cell_type": "markdown",
   "metadata": {},
   "source": [
    "32. Can you see what is in its modern companion the violin plot?\n",
    "\n",
    "__Hint:__ There may be similarities with the graph of 31."
   ]
  },
  {
   "cell_type": "code",
   "execution_count": null,
   "metadata": {},
   "outputs": [],
   "source": [
    "sns.violinplot(x=gapminder_2002['continent'], y=gapminder_2002['gdpPercap'], order=slice_name,\n",
    "palette=continent_colors)"
   ]
  },
  {
   "cell_type": "markdown",
   "metadata": {},
   "source": [
    "#### Line plot\n",
    "\n",
    "Last but not least, one can visualize the evolution of a continuous variable\n",
    "with respect to another one using a line plot: "
   ]
  },
  {
   "cell_type": "code",
   "execution_count": null,
   "metadata": {},
   "outputs": [],
   "source": [
    "for continent, df in gapminder.groupby('continent'):\n",
    "    plt.scatter(df['year'], df['gdpPercap'], c=continent_colors[continent])\n",
    "    for country, df2 in df.groupby('country'):\n",
    "        plt.plot(df2['year'], df2['gdpPercap'], c=continent_colors[continent])\n",
    "        "
   ]
  },
  {
   "cell_type": "markdown",
   "metadata": {},
   "source": [
    "33. Can you add a regression line for each continent to the scatter plot?\n",
    "\n",
    "__Hint__ `sns.regplot` can be useful."
   ]
  },
  {
   "cell_type": "code",
   "execution_count": null,
   "metadata": {},
   "outputs": [],
   "source": [
    "for continent, df in gapminder.groupby('continent'):\n",
    "    plt.scatter(df['year'], df['gdpPercap'], c=continent_colors[continent])\n",
    "    sns.regplot(df['year'], df['gdpPercap'], color=continent_colors[continent], lowess=True)"
   ]
  }
 ],
 "metadata": {
  "file_extension": ".py",
  "kernelspec": {
   "display_name": "Python 3 (ipykernel)",
   "language": "python",
   "name": "python3"
  },
  "language_info": {
   "codemirror_mode": {
    "name": "ipython",
    "version": 3
   },
   "file_extension": ".py",
   "mimetype": "text/x-python",
   "name": "python",
   "nbconvert_exporter": "python",
   "pygments_lexer": "ipython3",
   "version": "3.8.12"
  },
  "mimetype": "text/x-python",
  "name": "python",
  "npconvert_exporter": "python",
  "pygments_lexer": "ipython3",
  "version": 3
 },
 "nbformat": 4,
 "nbformat_minor": 2
}
